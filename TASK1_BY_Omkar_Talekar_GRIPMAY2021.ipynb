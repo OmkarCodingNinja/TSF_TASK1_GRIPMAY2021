{
  "nbformat": 4,
  "nbformat_minor": 0,
  "metadata": {
    "colab": {
      "name": "TASK1_BY_Omkar_Talekar_GRIPMAY2021.ipynb",
      "provenance": [],
      "collapsed_sections": []
    },
    "kernelspec": {
      "name": "python3",
      "display_name": "Python 3"
    },
    "language_info": {
      "name": "python"
    }
  },
  "cells": [
    {
      "cell_type": "markdown",
      "metadata": {
        "id": "oz3OuuQqGBtn"
      },
      "source": [
        "# **The Spark Foundation #GRIPMAY2021**\n",
        "# **Data Science & Business Analytics Internship**\n",
        "![GRIP Foundation.png](data:image/png;base64,iVBORw0KGgoAAAANSUhEUgAAAMcAAAD4CAYAAABYKfK+AAAABHNCSVQICAgIfAhkiAAAAAZiS0dEAP8A/wD/oL2nkwAAIABJREFUeJztnXd8U+X+x7/POZnNapPuPSwFCpRZoOxZBREFwQVXRAW9XveeyNXrwMXFq16cXHHCT1FBFCgWFGiBUih00b3SpmmaptnrnOf3R5taEGhWm6Q979erYtNzzvM9yfnkWd8BwMDAwMDAwMDAwMDAwMDAwMDAwMDAwMDAwMDAwMDAwMAQ8GCMEcaYBADAOl0YxpiNMSYv84N8ba8/wbwZgxiMManVaiUNHea0kjY6uENvTwHaPs6GUawFs2izHYCiAfhsBAIOQaiNVL68w1Y4MS4ICII8mZEs00yIAhtCyObre/EFjDgGGRhj4udznZJ2g2VCU7t+tpWCBVVqG58kiGFmK2Zb7BSBL/GxI0CAAQOLJLCAQ9BWO66IC+YY+HwiX8hlHSRo4tjEBRHqOQjZfXBbPoERxyABY8zb8rsqrklluM5kp29TG2wpFhsttlAYABDgrn+c+sAxBkDdB5IEAg4Lmfgsol4iYO8fFs4/GBGKfluZHq7vx9vxCxhxBDgYY/aPZzVTiuX69dUqy3y10S61UxQbAAFC3vl4cfe/LAKBgEMYQgSsw/FS7tZ56dE5E6OR0SuN+CGMOAKY7wvaok7JzXeqjNZHWzttwTYKg5f0cFkwABAIQMAhjcmh3MNXRXA33jE54gRCCPd5coDBiCMAwRiTmw82zylRmJ/tMNpnm210v4viLzZAV08SzCMbE8P47y9IiXlv+nCkG1gr+hdGHAHGiVpD5J5S9foapfkBjcku9bU9AAAckrCkRfD+SArlPrRuemSJr+3xFow4AohnfmqNsNpN7zd2WJfpzdSA9xaXw9GLiHlkfryU//DLS2IK0CBY1SJ8bQCDczz4U01Efbv2/UqleZne4j/CAOj6hqVoDB1G+xSF1vzzlyfa7nVsPAYyLF8bwNA3mw+2RhQ2ad/XmallNL7ULoX/oNDapEdqdK/oLbgBAH70tT2ewPQcfs7pWhys0Fre05q6hOHvIABo6rAKf6/qfHrLHy0jfW2PJzDi8GMwxmhbQd1NVSrjEhvt/8LojcFKTz7fbHr57TzM97Ut7sKIw495anfjyHaD7RmTDXN6hlKX6j38sEehaAwtGstilbJxna9tcRdGHH5KkQILLFb6lU4jFX/BHMOfZuJ9YKWA09BuuevlffI4X9viDow4/JQDxS0LFJ3W+XTPK1foHfxYMForlV6vstzkazvcgRGHH4IxZqsNtjVGKxX052OPLj7IL4dTF0PRGFnt9JqvT6oDrvdgxOGH7CpRX9XcaRtH0Vc4CCG/7jF6Y7HT6SqD7Wpf2+EqjDj8kBPVxgSjlYq54lAqQEAAYLRSUNFqTPS1La7CiMMPiROzrrbYadJbLue+hsYAIj55dbkKi3xtiysw4vAzMMYIsCXugvlEAMwt+qLDaCcLqtUBpXZGHH6HTiriQNQFehgEPQgVYJuYAIw4/BCRRt5h2o2pwZXTQMJj4dSr/MLD3mkYcfgZCCGKZvEKhXw2NQhGUwDQNSk3WOjcTCkEVDAUIw4/ZPbw4NYQAbfN13Z4AwwAPDYBESKyMtBCaRlx+CFZicFFLIL4jhwknw6fQ7RESoNyfW2HqwySt39wgRDCY+KCcoKDSGugD61IBBAfwj2+bqqs3te2uAojDj9l+YjwQ0ky/tFA7j0wBggOYhkSZOyPEEImX9vjKgH81g9uQkKQJlLMfipcxGkN1M6DRSKIELG33ZUVGXBDKgBGHH7NPTMiTiVIeW9wSGQMRIFESTjF6fFB7wRirwHAiMOvQQhR4eHRW5JD+Tu4LBRQnlZiLtkUxCbXr5kYXu1rW9yFEYefs34iss1LC345PoR7iEX4/045xgBSAWmdnirZ+tby+Dxf2+MJjDgCgEWjJNXDIoPuTJRxc9mk//YgDmGMjxO+du+M8DcCbV/jYvz/q4ihh+/OapKLGrQfl7WY5hhttF99eBgAQoNI3dRk8TvrZ0S8ghCy+NomT/Gn95fBCc7Wm5O/Pdv2eIXCuMpko4W+tgfjrlUpMZ8sjRJxH3r9hrjfB4MwABhxBCRbCzDbpFX8o7TF+KhCa4uh6P7Prn45hDzSHsJjf5MeK3znHzPDCn1jRf8w5MWBMSagvDyk7ejR4epPPsGCmTOzgCDGWBobaazTgV2vB7DZgODzgRSJgCWTIVIma+/8+efd/DFjbKELFyrEq1bVAAAeyDE2xph894gi7Vyj4R6jGa/TWuxcmh4473Y2iSipgHUqLTzoo1FJUTsWpSLtwLQ8cAw5cWCMSTh0iN185EiCtbZ2Kk3TS6wVFXGA0GhrSwvCVisLkSSJKerCJAaOmO2upw+D3W4lQ0IQ4vMbWSJRBRKL/+AlJZ1DY8YUxq1d2wFdw3BLfwsmrxHzC2varpFrTPc0aqxZGoOdT3eV0PAq3YWhgCSRLYhFnpYIyI/GRYT9sH6OSOXlpvyGISMOvGMHv72jY4q+sHC2VS5fYKmqisJ2eyJtNAKmKADH164rX70O4ZAkIAAMUilNsdnnJVlZes6sWR1ESMiGmAULTg1ExnGVCov+d06ZXqkwLDfZ6BWdJnuEncI8DNDzZDt7Zw41o+7/55AIOCTSBgexylgE+jgmlLvrmfkx7f1wG37FoBcH/uwzXk1OzjRbc/M6qrMz297RIaGNxgt7BK81hrseLJIEkEgAhYW1iJKS/k88btynYQ89dA4hRHmvscuZgMn3flPE1nRYZ3BYcHer1pZooahIOwUck43uM+KWQAB8NgGAQMdlEarYYE67HeN9wTzOvtFJorIlaYO3p7iYQSsOvHcvt+Hbb6cbq6vX21pbF1J6vQSo7mdzAAbmuPspJHg8zImKUvBGjPg/4YwZn4StXXsOIXSlpDteQ63Gku+K1CKBEM+uUpnEHQb76hqVZcrFIasYAGRBrLZhEfyz1SrTz8PCgmwJwZyaWgN9as2kcHu0CNSBvmfhDoNOHBhjduubb87QHDx4j622Ntuu1YqBonwbh40xEDweZicmtoomTvwmJDX1VeG99yoH2ownd9VvK2813X6xODgkgtExQe++uDjuMQCwDUUhXIpBtUNuPHMmpuHee59Rf//99+azZ1fYOzrEMJBLOJcDIaAtFmQpL49Uf//9Ay179uxu3rgxeyBNOFhjSjBY7Vl26q/PPY9FVA2LEHyBELIywviTQdNztNx3X4K+tXWr6dy5bEqtBiD8VPcYA5AksEJC6gXTpr2Z9MQTn6PU1H5fBn1oR83qeo31Q5sd83q/zmUha4KU9/TbNya+3d82BBp++gQ5D8YYqT76aKn6+PEvDHl52VRHx4ALw6WvWoQAaBrsKlWC4dixzTXPP/8v5YYN/brT/dzuptQOE7WhtzC6SiYjC49NvpoYlPBef7YfqAS8ODTffnureteuT6xy+XRst/tkCOVWiwiBva2N1Ofn39t54sSryvfe6xeBrP26Ibqy1fiW2mBPcbyGAUDIIS2hYvar0gh49YFFg8Pdw9sEdE3Ati1bZii/+GKzsbBQFpBZAREC2mgkjefP30uIxYDLy59Bw4d7JX0Nxpj49KRy8r6zmudMNnqRY3mMRSAsFbCKwwWc568eF7dvThIjjMsRsHOO6tWr481nznxkbWtbGJDC6A3GQIaE0MFXX/1+3ObNzyDkWbF7jDF687fmmypbze+2aKyhgAC4JEGL+WSNgE1uHxcT9MXaGRE13jJ/sBKQPUfnjh1SxWeffWBrbw98YQAAIASUWk1oDx26t/Gpp0oB4ANPLlfXBhEWK72+w2g3RIo57RQNOcMjebXhUvYPt08Iq2FWpJwj4HoOjDFRc9NND+hOntyEDQa2z5dpvQnGwBsxoj70jjuWh61Zc8r9y2DWf4+1SsvrjWh4QhAenhWhnjMALiyDjYDrOeQvvDDaXFPz+KATBgAAQmCpqUno2LPnbozxaXd30rt9uQZ8k3GwEVCrVRhjwnjixBqbQhE96ITRDbZYwHz+/A1NDz00wde2DHUCShzKN98cZW1tXYmtVl+b0n8gBLRaHW6Ry+/EGJO+NmcoE1Di0B47lkVpNNG+tqO/wVYr2FSq69q//PIqX9sylAkYcWCM2ZRWu5Q2m33vK9XfEARYa2vFnT//HONrU4YyASMO48GDo7DFMr7H7XzwI0AEMaDOiQwXEjDi0J86JaXM5hBf2zFQ0BYL6M+cCfK1HUOZgBGHub4esMUy+IdUDigKgtLT52GlMtLXpgxVAkYcQFE90XVDBQwgMre2sn1tx1AlYMTBS04GgscbFGWHncZma+WNGhWQGcoHAwEjDnZSkhJhPCjq5DkDYrPBVl9/GCE0ZBIa+BsB4z4S0tFRruByy4Eko4dC74E4HBBmZRmgsP+TCGKMkQFaw5pNCrYe2nAQ8CGMn4CkEKtDaPAla3OWgBEHWr/eVrlixQlrQ8NcbBtcNbr/AsZAikQ6gsf72fuXxsQZTX58qf738CBCfE2V4Sz/mZIb2Qn8YfNoDFIbNmMCsYFP8JCe0hVvKLntTKpwDNCYzokLSmmYHbaiHiE0yD+ALgJq6ad548bs9u+++86uUAgG+6pV0OjRh4a98cYNaNw4jTeuV4B3B9U0181vt8hvMNn1MzusqlAa24R2TBEUtgO+TLAviUhgITZgAF0wW6YjCfYRGTvil7CQ0B+vDf57hzds81cC6gnDBQVBFc88863x3LlrgR6Q1E8DD8ZACASUKDPz9uRvv/3S08sVNO8OOmk+NldjbbvHZNfPMdOmIArbuz941z5+DBgIIICFODY+S3hmuHD8H8OEoz8dK51b4qmd/khAiQMAoOH++5d0/vbbN/a2tqBB2XtgDEFjx5ZHPfHEUvH8+RXuXkaJS4S/Nu6e02ysWa+1dcy10mY+BhqQFz9yLsEHMVt2PogV9MrEsCl7pkpWqr12cT8g4J4urFAIqh966BP977/fhAebKwnGQAYHW0RTp65J+t//vnH3MnsaP4hR2ts21xvKFhkpfRAGGvrno+4ajHEInjWCG5ufIEh96vro+woGy5wkYJZyHaDISIMgPX0jb9iwOl/b4lUwBoLPB25S0meJa9b84O5lctt2XVtsOPPVeV3hcj2lDcI9+dH7AwQIENhoM0duqplZqTv3027FJw9ijANmoedKBFzP4aDhgQeWdh448F97e3vkoBheEQQEZWScDl27dpVs5cpSdy7xfdP7K6oN5/6jNMvDu3qLgQaDkBVijOQnbFif9PLmgcgu358EXM/hIH7Llh8FEyY8z46KogJ+co4QsGSy04KEhDvcFcaels9WnNcXvtdqbvSRMAAAEOjsHUHNxqqNn9S++BDGOKBdXwI60mxzUVG1XamMsNbXj7Xr9Qgjb043Bw5CICjkhoauTd61q8id8/coPhlVoSv6XGlujPK2ba6CAIEVW9l2bJlWayo7/cPm3yp9bZO7BGzPAQCAEOqMfuCBx4JvuukzFBeHaZr22Xemy3Tv8nOTkpqkS5Y8k3b0qFvCKMdHRDW64o0tpto4r9rnAQgQdNrUgiZD1T+PdOzO8LU97hLQ4gAAQCEhGtk//vFSyC23vMOOiZFbEAKbv7uXYAyIywX+6NGFglGjro/dvDnH3Uvtr9m1QGFuugaDCyt3GFxM8OseertmfLWm+GmMMbf/W/M+AS8OAABecHBD4mOPPR5+553/EI4efQq4XNpv3dsxBlIqtXJSUjZH3nrrioSPPz7lbsWnXOUOodaiXmelTXx/XFuxYSvIzVXX/NG+Z7qvbXGHwbHk1pXBD+sxzsNpaXcZPv30b9bS0tvtbW1S7OvCNQ4wBsTjAScqqkYwdeoH8VlZ76GVKz1yR28yVWebaP1McHW5doDeDgQItLYOcaWu8BoAODgwrXoPP3hqvA/GmGh5882lxhMn/mEuL8+yqVQ8n1V3omlAHA6wwsI0vPT0fSHz5r0jW7v2uKeXxRizPq9/7bvizrzrfLc61TcYMMQHDTu3KPJv81JF4wIq5GBQ9BwX050pcBcuKPitdd++bENx8VrjmTNjKL0+ClutXZPh/hRK95AOcbnAiYnR8lJS9gYNG/ZhxMyZeWjOHLM3mtgJOwm5qUbitDD6cy/wCiBAoLK0iPao/xdwz1rAGewKaOLETgDYgWtrf5Jv3jzMolbfYamsnElpNKMorZaN7XYEGHun2A1NAxAEIBYLSKGQImWyKpZA8HnwjTf+HrZuXQFCyCuicFBSuhNMlAvJ7Xw0RsCAAQGKzOBPmwqw+XvfWOEeg1ocDlBSkhkAzmKMH9F//bWsbf/+cbTReC2l0cygtNqrrHI5iQgiiLZY4IKKs330LoggAHE4GDA2sKOjadpuP8VPTa1jhYf/LJo27aR05coGOHAAYP36frkvEpFA44vm8r2LiPsJLMTicQiez/dgXMWP3sKBB9fWRiq3bQvX19XFEQQxz3DmjJA/fPhc2mzmW+rr+Ta5/PKpgDAGVmRko2Thwm9tFRU/CCdP1oVnZ9d391b9TgnewdlbcWh/q7lxVu91WYy7/oMI//lo2QSnZYRo8ry/JT5Z5mtbXMF/3kE/AGPMArU60iSXQ+fu3XM7fvppq6W2lnfJHgRj4MTHt4euW3ddxLp1xwbeWoB/Vz7yRpOx8rG/BCr5aH5xKTBgiOLG142SZWVdHba6xdf2uMKQGFY5S7ejXBMAAMb4W1NVVYpVqXz6kuUOEAKbUikznTmzHmN80hdu2qGciDPtlhYwUNquOA2HKPxEGABdQz8RR5afHbpKDbDa1+a4xKDYBOwPEEIW2bp1/xbPnn0McbmXTAmEzWbQnzy5pOWll6b4wEQYFzLrhBCk1f44z+gCA4fgazkE9yOEAq/2ICOOKyCZOlUdPGvWfYIxY04gNvuvAkEI7HJ5SMfevesVjz0mGGj7RoqnVMZwk7/gEYLLxoD7EgQECFmSvdMTJhz1tS3uwIijD6Rr1pSIJk9ey7vqqksKBNvtYG9uvllfWfkvnJvbr/XEL0Va8KStYjLkIML+9VFiwCDhhHamCtM/TEWLAq7XAGDE4RSRL7xQEjxv3lrRrFknCJEILogfQQhos5k0lpXdV/vxx/9SvPHGgPYgE8NmtqQKM94RsUL8qMwZBg7BMUrZ4f9cFvPAH762xl38bpTqz5iPHk2Rv/vu381VVfda5XL+BS4pGAMpFNrZcXEfyVavfjv8rruqBtK2tyoeXN5uaXrPSlsiBrLdi8GAgUvwYbho/PdzEuasikNTAzadKSMOF8EY81pffXV+5++/r7fU18+hNBpBj0gwBsThAC8trUQyZ87GyGef3YMQGrCH46WyNctMdt37vhII7uox7GmiCYemRi5Yl8abXOsLO7wFIw43wbt3BzXk5My11Nevt1ZVTbZrNDJssxGOOQknLs7MS039WHrNNR8F/+1vpQMVT/1Oxf3LdDbdezp7e+RAT9J5hNAgYIleWha7/pM00cSAz/HLiMNDcEmJsOmDD5KM588voE2mbHtHxxhss0VSnZ1A8HjATUxUsqOi3gq/7bZPRUuWDMgDs69l+/IyXcG/ms11wyhs79fgYQwYSMSCME6UPFk45k1pTOt/5qCNAZ1YwQGzCeghKD1dDwDnAOAc/vzzrW0KRaqhvHwsZTBMxWbzGKtCgYjOzutsRmMjAHw9EDYtjFz1PQ2sUyGcsH/WGyuW6u0aMYUpryZ0c2Q/FLKCzXFBqYdjhMnPZIeuKnI3cMsfYXqOfgJjzIa6OhK2bYMmrRbFDh9uR+vXD+guOsaY+0PTf6c2mWvu0djasnV2jYjGdrLbU9a9awIGFmIBnxSbJWzZ77H85K2zYuftD0fpei+b73MYcQwBMK7k/tScM1Juqp/fYVPOsdO2yRbaLLFjK0ljO1zuMXDMWQgggUWwMAChlbBDO6Sc0N8T+Gk/xUaO35c+CEXhgBHHEKNEmSsssxYlsxE/u9ZQmtZhU67W27Wci3sSHinQyTgR7RySr263KHKSBMONVmzcnywZ3zI7+PrGwTR8uhyMOIYw2+r/Na9ad263kdLxHeLAgEFAiuyxQakPp4fP2JEkGEVHQVR7d5z+kIKZkA9RanEub2fFN2vNlJH/Z6+BgYO4kCQY9eP8xNu/ikNxgypruqsw7iNDlMP1eXfobJqVdHe+q64lWTZIuVHfxQcl3zfUhQEQ4OlAhwolJSWc4ODg8FWrVpF79uzx2Inv7Yr7Z8hN1a+aKWMYAtTj8hHOi/0umh1139K4+1q9YXegw8w5/ByMMXvFihUPFxcX3ycWi88lJCTcv3PnTrfcMppxQdAfTX/cWdyZ94CZMl1FAw0EECBgifVpovE/pciGP5opWKzw9j0EKsycw4/AGKOLJ76vvvpqSmlp6aPl5eXhHA4nnsvlVmCMH+tOP+Q0B5o/j/+m6n8PaK3t9xspA4eFWCAkJAY+W3QgihO/9ea4W35HKNro3TsKbJieww/AGLMffvjh+Wq1eqler8996aWXDqenpysAAOLi4tLb29uPGI3GYACAefPmVbz55pvTx43rSpCWm5srNBgMY06ePHl248aNf9lz2FJ5P1fEjrhPbW65X2VTxLEQ2y5giZsiuLHHw3nR28dEph8OZM/Z/oTpOfyA7du3zzh8+PC3RUVForCwsLs3bty4CrpdTZYuXZr60Ucf8RzHNjU1kV9++SUCAHj77bf5jz766HMGg+HvFovl8Jw5cx7Lzc093/vaPFKY0G5pSZZwZIcFXMlvCPD5CdIFqgniOTVDcXmWIcB49NFHl0VHR9MAgAmCwIsWLfoG467Qvo8//vgNmUzmyIuOQ0NDq7KyssIBAJYvX369TCazAAAmSRKPHj36m0DNaO6PMEu5fkBUVBRwOBwAAKBpGqqrq2OrqqouGXLb2dkJRUVdpTwOHTok6Ozs5AAAUBQFXC534e+//z5yoOwe7DDi8AOio6PbMcY6x+88Hm9caWnpaAAAFuvCkS+bzQ669957wwEAFi1aNI/uFbJLURS3tbU1oEuN+ROMOPyArVu3ntLpdD3lwZqbm8lPPvmEBABQqVS1FoulRwHh4eFRU6ZMmY4xRiwWK7n3dTDGYLMNiirHfgEjDj/g2WefxSNHjuyZHGs0GjaXy00HAHjssccO6/V6reNvFEWBVqtFAAANDQ3Qu0gPi8UCmUw2gJYPbhhxDCDt7e0xP//885xNmzZF9n59wYIFJoxxAepO1oAQImiazrrUNWiaBr1eDwghaGhouOBvCCFDTEyMV7O5D2WYpdwB5KWXXhqbl5f3udForJ41a9a6w4cPnwHoqieSmZlZFBQUBAaDAex2Oxw7dun0uzRNg9FoBABATU1NqHfPUVxcfMJisQRUsmZ/huk5BpCWlpZFRUVF0pKSkkk2m+39vXv3hjn+dv3111NisRgAugQQEhIyKS8vLwYAaJL80wUOYwwGg4H66aefRkVGRo5wvI4QgrCwMNuECRMGRfy2P8CIYwCJiYmxkyQJNE1DRUVF5i+//LLY8TedTveHzWaTO343GAwR27dvF3M4HEz0Kq5D0zSYTCZcUFAgo2m6p0QCQRCQmJg4ULcyJGDE4QR79+7lHjlyJN7TDTY+n/+dSCTqAABQq9VkTk7OnIKCAjYAwIgRI9TJyck9bhwqlSqIx+ONEYlEgHpleKdpGmw2G3z33XegUv2ZzIQgCBg2bJgn5jFcBCOOPvjwww+HvfLKK+8///zzR59++uknMMYcd6/18ssv5yclJeURBAE0TUN7e/u1H3zwQSYAwOrVqzstFkuB41iEEEer1Y7X6XSYov6MSMUYA0VR5MiRI7MsFkvPnJGmaVCpVMcYlxDvwYijF83NzUGVlZXjKisre3qI48eP31xaWro2Nzc3Nicn5/7Nmzen9D7H4ebhDAgh64QJE34Wi8U0AIBGo5GqVKq7McYshJDFarWed+yUm0wmOHDgALrxxhujEUI9G3vdq1WESqUa1fvaHA6HKi0tLXbz1hkuASOObmpra3mPP/740+vXrz/46quvvuUYQpWUlLC7V4egoaEh1GAwZAMAnD59OuyOO+5YtXbt2hfee++9sc62I5PJvheJRMUAAFarFcrLy5ds2bJlCgBAZmYm8HhdPoYURUFYWNjMWbNmrRIKhT3Jqe12O1gslvCqqqoou/3PubdEIoHp06f/pT2MMSoqKhJs2LBBvHXrVmb3nMF1fv3112Xjx4+3AAAeP368Zu/evVMAAKZMmfISj8fDAIAlEgl+4IEHXgcAeO655+6LjY2l+Xw+Xrp0acGJEycir3R9BxhjIjs7+wM2m40BAHM4HDx9+vT/AQC8/vrrG3o7GcbExLTPnTv3lKN96HZMTE1NVYWGhtodrwEATk1Ntb///vvX9G4rNzeX9+STT/5t6dKlucOHDz87c+bMF3Jzc3nA4BTMPkc3DQ0NYrVazQEAaGxsFHz88cd/cfyzWq1QVVXlOD5LqVQiq9UKZWVl46qqquYDwBd9tYMQol9++eX9JSUla5uamjjdvceyjRs35iclJbF6+1I1NzdLFQqFtPecg6ZpqKys/Ms2OIfDMY0ePbonWGnDhg2cTZs2PVFUVPSMQqHg0jQNVqv1qvz8/CMA8JtLb84QhRlWdRMcHNzjGavValkxMTGzLj4GYwxms5nGGEdgjMc4hjUWi4XQ6XRBzrZ13XXXHYqMjDzu+F2lUgl//PHHV/Lz81eaTH/GHXVPvp26ZlNTU3FOTs6p7vPYCoXiqePHjz/d3NzM7eWcaA0KCnKhePnQhhFHNywW63hQUFATQNe3s1KpvKTrt8Vioa1Wq9RgMMQ5HjqCIIDLdX6Vd8yYMR0JCQm7RSJRz2unT58Ofvfdd4dptdornHlpEEIgkUjsarXaBgDw6aefTs7Ly3tQrVb3DKFYLBaEh4f/+sADD5xwuYEhCiOObiZNmtQaFxenAwCw2Wyg1WozMcbJVK+vbrvdDrW1tVBfXw9tbW0lKSR5AAAf80lEQVQetZecnHxAIBD0XMRTj9qgoCBITU0FAICdO3dmV1ZWSnv/PT4+vnP69OkfIoSYnsNJhqQ4duzYIbn++uvvXbNmzf0nTpyQAQDExsYabDbbOceGW3t7e3B+fr6Az+djx2sYY7BYLNDS0gK9hz8IIWCzXVsIWrt2bWtaWprXckMRBAHt7e347bffjjl//vyS3vZxuVzIzMz87o033gjIwpW+YkiKo7i4ePbZs2e37N+//985OTn/xBiTCCELSZKFAkHXqmlbWxuZn58vGzZs2AUPPkEQUFxcDAaDoee1kJAQiIqKcsmGESNGtDQ2Nub0dg1xF4wxaDQawdVXXy2srq5eoVarx/T+e1JSUnlCQsJLgVju2JcMSXGIRCIuALCam5vR/v37V+7bt28CAMDMmTOVXC7XDgCg0+n4FEUtEovFF7hvdO9uRxmNxh7FsNnsVpIkT7pqB4/HM/d2KvQEhNDIvLy8GyoqKv7W2dnZY7BUKqUXLlz4+euvv17nlYaGEENSHFlZWS1RUVEdAACFhYWhn3/++TQAgK+++irXarUqAQAMBgMUFRWxL/XNjhBaaLFYelanRCKRViwWN7lqR2/ReUpzczP7/ffff/HkyZMZjtcIgoDo6OhfMjIy/uO1hoYQQ1UcheHh4WUEQYBWqwW5XL5GqVRGrlixgnJ4tlqtVtDr9VcFBwcH9z6XIAg4ceIE0XtVKSIiAsaOdXqTvAdvhrRijImqqqpYjUbT85kKhUJ7UlLSZ3feeafuSucyXJohKQ6EkCE0NPRrgUBAAwDU1NQM37Jly9i77rrLEhMTowPoct+wWCxjKYoKcwQUYYwhOjo6xGw2j7ZYLI5rgUqlOgMALq/B0jR9QZirtxGLxdVz5849dbm///jjj9FPPvnki2+99dZaJqXPXxmyO+QpKSk/xcXFPVZaWprQ2trKaWhoWBMREfFbVVXVQZIk0yiKgtLSUg6Pxwu1WrtWP2maBg6Hk61QKMIdK7wcDgfa2trOXTzZzcvLS8zPz48SiUTUddddVxoeHv6XbIR8Pt+rQ6veEAQBY8eOrX/ooYeaHn744Uses23bthuPHj36QlxcnFYsFtcAwKGioiLBl19+mW00Gk3Lly/PnTNnzpANux2y4njyySebT506lVNdXX2nxWKBY8eOXfPkk0/OEIvFZoIggKIokMvlYTqdbr7Z/OfzcerUqeTeu9Z8Ph/GjRsHp051fUFv2LCBo9Vq792wYcN9DQ0N8TKZDFut1hcB4PWLbUhLS4Pq6up+yRgiEokgPj5+f+8Sz90exCyEkBVjzJs7d+4slUqFrFarpLGx8VoAOHTw4MHFP/zww2c2mw3FxMQ8BAAfet24AGFIDqsAABBC9piYmM9CQ0O1AAA1NTXivXv3bqFpOtOx822z2VB7e/sFy0lWq/UCl46goCCYNGkSAHS5bRw+fPjhzz777NUDBw6klpeXc8+cOcMrKiq65DpvRkZGJZfL7ZfyYTKZTDVp0qSefY29e/eGrVix4rHVq1dv++9//zsVAMITExMnOmLS6+rqrsIY8+x2e3ZLS0uQQqHgNzc3z/YkfiXQGbLiAAB4/PHHyzMzM4sdoatlZWUjS0tLpzvrzwQAYLVazUajsQQA4PXXX18ol8uf12g0fMdcQiqVqsVi8XeXOjciIiI3NjZW6Y176Q1BEJCWllaSnZ191vFabm7u3UePHn39//7v/27ZuXPnfQDQcv78+UMsFgusVivodLpJABCm1WoxRVFgt9shPDx8CgBIL9vQIGdIiyMmJqY9MzPzj5CQrlBsiqLAMb9wFpPJ1PnOO++cAQAoLCy8tb6+vif2gsvlQkZGxu5NmzblX+rcu+++uzo8PPxHV3fX+yI4ONiekpLyZXT0nyUFSkpKJBqNBsxmMygUilmffPJJdHx8vMbRtkKhgD/++AMoiurXRYJAYkiLAwBgxIgRP8fGxnqUgt9isdC7du1KKS4untJbXOHh4cWJiYkbEUKXnFQghKgJEyZ8EhcX57WCMQghSExMLMjKytrV+/URI0bQjkCqjo6OSIqiZqenp1MOcXR2dvLkcnmEY1+ne6Ggx53322+/Xfn8888/MWvWrCETDzLkxTFx4kRrWFhY3wdeBowx/+qrr07Mz89f3dra2pOeUyKR4AkTJnz2n//854pVmDZt2lQwevTol8LCwlwqRnM5oqOjzbNnz/7o1ltvVfV+XaPR5GCMDQBdLvkHDhxILCsr22e1Ws0AAGazWQoAs+nuCReLxQK5XJ4LAMojR45Ef/rpp89+8sknr8THx9/sDTsDgSEvDgDoieNwB5vNJi4vL//nvn377lCru/wIEUIwbty44nXr1u1w5hqvvPLKN9nZ2V+JRCKPxjOhoaGmUaNG/fPWW2/dfvHfgoODW8LCwqwAAEajEaqrq9N4PJ5WJBLZALqyt5eWlhIOdxY2mw1CobAVIUQfOXJkQnl5+cjOzk5Sp9O55kQWwDDiAPBojG2z2eDUqVMzzp49G++4jlAoxMOHD/9s0aJFTrmUpKenq5cvX/5QSEjIbnds4HA4MGrUKMVNN9208c4773xr4sSJfxnG3XTTTa1CobAMoCdrYta0adPioqOjMUDXKlxZWRn0HlY5vjSUSuXStrY2lkAggEmTJrkecBKgMOLwAna7HXqXAiBJsrmxsfFHV65xww03tLPZ7NOuTs75fL59xIgRW2+//fbs//znP2+tXLnykisKmZmZ7TKZrLJXtGO80WhM1mg0RQAAZrMZhELhVKPRKHLcC+6CU1FREde919N6/vz5Ay4ZGMAMeXHgriqVXt1rSE9Pt61bt87lnWWr1epyLzZy5EjlPffc89rjjz9+tveG36XIyspqcLjkt7e3oz179gRzOBwFQRBgs9lArVYP02q1wl5Cp3Nzc1O1Wu1kmqYhKSnJNn/+/CGzYz7kxREbG1sOAKe8EVcBAECSJJjN5tzrrrvO5Vreer3eZXGEhYXhBQsWOCVuDoezv7tMGlitVjAajVdPmDAhxDHPUKvViSEhIVm9wn/xrl270kpKSvgIIdDr9YdWr17d7JKBAUzAiwNjTOzZsydmy5YtYnfORwhpg4ODD19cQcldJBIJzJ07t86d3kir1V4wPHMGoVAIKSkpfR8IAIsXL26KjIysc/xeV1eXxmKxpjgEWVZWFrRv3z4pTdNgt9sBYxzX0dGxXqvVcng8HqSkpLT31Tsx+BGvvfbazKuvvrpq9OjRX1x//fVuVW558MEHZ8bHx2uhVx4od3/S0tIa/v3vf4/6SyN9gDEOmjdv3m5X2xs/fvxujLHg4uvt2LGDv3nz5jG7d++O79UGedttt/3syJlFEATunROr9w9BEHjmzJnGpKQkOwDgsLAw/Oabb77g6n0xDBD33HPP8unTp++48cYb1+/YsYPEGLMWLlz4BYvFwmKxmJo9e/Zyd66LMebNmzfve8dD4+5PcHAwvvXWWze5aUP4qlWrKl1pDyGESZJ86+Jrffrpp2ELFiz4avjw4Zpx48adv/766x/dsGEDDwDgsccee6R34ri+ru/4/4iICO3q1asnunNvgUrADKtef/316AMHDjyfl5e34sSJE883NTWN/Oabb6Jqamomda8WEXq9ngUAsGHDhpHJyck3Z2RkOJV2HCFkXrJkyda0tLQOd+0TCoU4IyNj+9y5c19z53yDwQB6/V+82q8IQgh6p/dx8N1334mKi4vnlpeXS06fPj0sNzf3lRMnTjyNMSZHjBhRFR4e7tTEpvf8JywsDGdmZg6pgoMBI47CwsIROp1uJEVRYDQaBVwuV3L8+PFRJpPpKoCusfekSZMAY8w+duzYFrlc/rXVav3q119/vcqZ6z/44IP7x48f/0R0dLTLriQxMTHGG2+88X9Lly596K677nIro0h1dfUFGU2c4XLiuP322zXp6enVjnlUZ2cn5/z5808999xzN44dO7ZOJpO5vFjAZrPhoqBIBn9h+PDhywiCcOSHLQMASUZGxm1sNpsGAJycnGzeuXPnNevXr88IDw9XAACOjIxs2LZtW7qzbWCMRfPnz/+VIAinhx3p6emKNWvW3KpQKP4y7neF77//PnzatGkuDavYbDYeMWLEX4ZVAAAff/zxraNGjdL0tnXhwoXFBQUF4xcsWHCs95DJmZ+kpKTORx55JONSbQ1WAqbnmDx58lKye81RJpPBLbfcwk5OTl5K0zQCALBYLJU2m+0kQRB363S6CACAkJAQuVqtrnG2DYSQzmAwlDm7cpWcnGy77bbbnty2bdtXkZGRhr7PuDzV1dWOWn9OgxACPp9/yb/deeedX8+dO/ef8fHxGKBriHT69On0H3/88UGz2SxydclYq9WybDab+05oAUjAiEOhUPAcHyifzweJREIUFRUFOZY+hw8fbpw0aZLk7NmzWSaTCUiShDFjxjQ8/PDDLi09OmLDnSEuLs5y7bXXeqUmRnV1Neh0ruVBuJI4EEL4lVde+WLRokV7euXigu3bt68qKyu7ZKrTK4ExDpLJZNf0feTgIWDE0djY2DNBlMlk1Ny5c0dwudzxGGMgSRLEYnHJkSNHRjY3N48CAJBKpTg+Pv7ny7mLXw5XYrplMhmEhoa6cvnLUl1dfUGiOGdACPXU87gUQqFQuWjRogdnzJhR7bivuro6QqVSufy5G41GKCgo8E6SrQAhYMTR2tras0HG5XLxyZMnRTqdTgLQEy9dc/LkyatbWlrYAADR0dF148eP/x0AQKlUCnft2pWoUqn+Onu9CFeCfQQCgctpQC+Hu+LoK4H1kiVL5IsXL/4tJCTEI49fFosFUunQCgoMGHG0t7f3PLQIIVRbWytVKpUkAACPx7OPHj267Zdffom1WCzAZrMhLi7u6M033yzHGBPPPvvsy2+//fbJu++++6a+2tFqtU6Lw5uZQ2pqalxeygWAPsWBELJGRES8nJSUVOqubQAALBbLKpFIjvd95ODBr8SxYcMG1qxZs1gX19k7ffp0Ynp6ek/WNIIgiLi4uKUEQXC7f29sbGykLBbLLIwxiMViavz48YcQQraVK1deu2PHjtuOHz8eeu7cuT5XlLrdJvq0lSAI6OzsLAoNDb1iMJOzbNu2bVJYWJhLsRK93cqvxMqVKxuSk5P/JxQK3e49IiMjTVKptMTd8wMRvxHHunXrUrZv3/5laWnpvuXLlz+Tm5sb6/ibVqsNkUgkPQ+OQCCQyOXyJEdIakpKisVkMs3TaDQSAID4+PiWtLS0nM2bN0eUlJQ83dnZGSoSiczXXHNNY192cDgcp5aqSJIEoVDYghDySqZ0jHEcl8t1aTnYlezuGRkZ38THx7vVe3A4HEhPTz/64osvOr3yNxjwG3E0NTVldnR0rGxra5t78ODBlz744IPPDh48GAEAUFpaesFKTnNzM3HkyBGWYw4il8tPHDhwQGI0GoHFYoFYLM699dZbm4uKip5uaGiYghCC4ODgP/h8/hVjEZRKZWR6evocZ7KP9DUZdhW5XO5W/ipnl52fe+65xszMzP/JZK67n6Wmpprmzp37IULI9XFfAOM34pg1a5ZBKBRaAbpCNg8cODD3888/vxGgSxy9x+MVFRWRbW1tox2/22y2cUqlMgsAgMVi2aOiog688MILw//4448Ver0eBAKBJT4+/uNNmzZdca305MmTXLVaHdIvN9gHSqUSeleHdRZXsrTfcsst38yaNSsvKMjpCm1AEASkp6cX/v3vfz/osnEBjt+IY9iwYb8LBIJjjt+1Wi1x7NixcQAABQUF0NHxp9uT3W6/4Fu2paVldHNzswQAIDQ01BATE6M7ePDgm3V1ddEkSUJaWtqR7OzsfX3ZYDabXXYZ9xbu9BwIIad7DgCA7OzsxmXLlt21YMGCX8PCwszOxrDYbDYzAAyZICcHfiOOG264QZOSkvKjUNhVxJWiKGCz2ZPz8/Mj5s6dO8dut192Gbb3JJrL5QadPHny7VOnTi2w2+0glUoV06ZNe/Opp57q7MuG2tpal5dTvYVCoXBrWOVqkNaqVatKH3rooRXLly+/deTIkQcIgrjiGJKmaVAoFNKzZ88OrXVc8LNcufPmzTtQWlraqNfr4wAADAZDclVV1fjz58+nODvkqKmpYdfW1ibRNA18Ph9GjRr11ZYtW3515tzCwkJob2/34A7cp6mpyS1xuNPTzZkzRw8Aux599NEGg8FwqLa29i9lpXtjNpvTy8vL0wHA69kZ/Rm/6TkAAB5++OFSPp+/2zGO1mg0QYWFhXeUlZXN653M+UpgjHsemNTUVPmSJUu29Ze9l/KIdRd3J+SecMMNN7SwWKw+V6BaW1vRvn19jkoHHX4lDoQQnj17ttYxYdRqtfDf//732vLycqfcznvD5/NhxIgROx9++GGnfZ/KysrA2VLHBEFAZGSkq2ZdEowxKzs7e4qrzoCeVqCdPn16M4fDOd/XpF6n07FZLNZUtxsKUPxKHAAAiYmJtGOSiTEGo9HIpyjKZZ8esVhsnjx58qFu12ynqK2tddkz1ktwQ0NDnXat7407K1y9mT9/Pt3XXonZbAa5XD76igcNQvxOHHl5eQf17vhRXARBEA15eXnH+j7yT2JiYlgEQfRPNZk+0Gg0vmgWOjo6fiFJ8ooTF7vdDs3NzVEFBQWSgbLLH/A7cRQWFraw2WyPC8mnpqbi9evXuzRbve++++YFBwdHeNq2qxw4cMBn4oiOjpb3lacXYwxWq3VcTk5O4gCZ5Rf4nThWr14NcXFxHl/HZDKdmTdvnks9EIvFCmGz2QP+nhQVFbm9SuZpSqGpU6fWsVis+r6OUyqVQQih8R41FmD4nTgeeeSR5uDg4DOeeLwKhUKIjIw862pR+paWFpfrc3iDs2fPQmdnn9sw/YLFYmng8XiNfb3fJpOJVVFRwYTJ+hKpVNqZkZHxYUxMjNtPaWJionr58uWHXT2vrKwMnF0y9ib79++HtrY2t871dEd/xYoVOCsri+qrBzIajVBSUhI1lKrO+p04AAC2bt26d/ny5Z9FRES4nDWQy+VSUVFR795+++0nXD1Xp9P5xH1k06ZNMQKBwK2EdJ6CELK1t7f/3JfrO03TQBDE9K+++so769cBgF+KAyGke+GFF56YPXv2xyKRyOmnlcPhwKRJk/Jmz5691dXwWIwxRyKRjHYlhtxbhIaGjgoPD09051xviDkuLk4hFvedTbWsrIz1ww8/eJRlJZDwS3EAAMhkMu2SJUueSEhI2OmM5ymfz4eZM2fmL1myZN2zzz7b4kaTwoiIiPGuFMv0FnV1dS4lduiNN8Qxa9YsXWhoaJ/jSYxxeHBw8AKPGwwQ/FYcAACrVq3SpqWlnXPGxXrMmDH1//jHP9Y9+eSTZe62ZzKZfDKsqq+vd0scGGOPNwEBALRabR5CqKqv43Q6HZw9ezYJY+yTvaCBxq/FAdAVW+2Mi4RMJju9dOnSCk/a8pVHbn19vdsLAd6o/Lp48WLrsGHDLH15+FIUBVwud8G+fft8EvMy0Pi9OJqamnh9fauyWCw4depUrqtLtxfjjW9hd6ipqXFbHN7o6UJDQ3VGo/GXvpI1AADU1NTI5HJ5cp8HDgL8WhwY4+DMzMxr+vp2DAoKgilTpnjUVmlpqc/c1aurq90Sh7eGVQAAsbGx7ZdLENcbm80WUVZWNiT8rPxaHJ9//jnZ1tZ2xVgDgC5xTJ061aPxRWNjo9uTYk+54YYbZgKAW+N4by0gjB49Wi0SifpUWnt7O7S1tc3AGA/6BG/+Lg6or+/TswH0en1bc3OzS06GFxMeHp5JkmR830d6F4wxKRQKh7vjEeDNnqOzszOXx+P1ucpHURQ0NzePaGlpGfSbgX4tjlmzZsWbTKY+894LhULD+fPnPapVp9frI41Go0/W8JVKpdsTa2+5u8yePZuKiYnpcwKDMYaWlpYRJSUlg97Pyq/FQZLkBKFQ2KeXbExMDCxbtsyjtjQajcuJnL2xUgQAoFKp3L6Wt4ZV06ZN00okEqcyzKtUKnFOTk5snwcGOH4tjv379zv1wIpEIs2SJUs8ijFta2tzaSm3O/GAJ032oFS6F5rtzWEVQkgvEomKnMnF1dHRgUwm09LBvt/h1+JQq9WRfT2wCCEoLCzMiY6OVnnSljtpebwQkwU7d+4EtVrt854DACA9Pb3P3LsAXUO50tLS2I6ODrcq+AYKfisOjDE/OTm5z2VcNpsNiYmJHg+8FQqFT/Y5SkpKyPb2dtIdcXQHIXnNlsTExDqpVNqn2jDG0NnZOT4vL2+41xr3Q/xWHI888gicO3eOcEYcw4d7/hkZDAavfgs7y7Jly0YNGzZsnLvne9NmNpt9WCqVOhVY0tTUxC0pKXEr7j1Q8FtxTJ48OcVisfQ56SNJElJSUlybSV+CxsZGnwQ6NTU1CRFCfe7lXAqMsVfjT6ZOnQoJCQlOHdvZ2UnW1dVlea1xP8RvxVFcXJxMEER0X8cZDIaOr7/++hdP29Pr9cgXToeVlZVu+3RhjL3ac0RGRjZLJJIiZzK3m0wmaGxsHNva2jrgMfcDhd+KY/fu3aRKpepzNUQikdBRUVEebW1jjFkjR45c4Is5R2VlpUfpgLzZcyCEOsPCwuqdEQfGGBoaGpJ27drlkyCtgcAvxYExRmPHjl1stVr7FEd4eDgsXLjQ0yZZer0+wRfuI56Iw9OkbpciJCSkwtks7EqlMkSv1w/a+A6/FAcAoMrKykhnVnBkMhlkZXk+9FWpVD6ZkJeWlnokDm/PkyiKOiyVSp3qjjQaDcrPz0/0qgF+hF+KY+fOnUHnz58XOjMHUCqVxZmZmR7txtXV1fkyb5TUYrG47cTn7Z4jOzsbwsPDnTrWZDKB0WhcWFRU5NwJAYZfiqO+vj5dKpVO6Os4giBAp9NVhYSEePRk19XVgclkcvk8b0zgFy1atITH47mVfApj7HVP4qioqCqCIJyu/VdZWSk7evTooEy64Jfi+Omnn7itra19PjAkSUJSUpLH7R06dAhUKtc22CmKArvdHokx9igqTqlUctzdHe+PYVVERITqqquuUjibLM5gMEQoFIoZXjXCT/BLcYwaNepai8XSp5MPSZIwbNgwj9urq6sDq9XqkgtHd3GdsSqVyqOouN711d3BW86PDhBCtEAgKHW2nFp7eztUVVWlX1wBeDDglzdUVFQU6swDgxCC8PBw52oGXAF3h1Vms9njrOxyudwjcUilUpG3HQC1Wu0RiUTilFFWqxUUCsXUo0ePDrqUPX4njtra2kiLxZLhzETTarWav//++92etvniiy8Oj4yMdHl8RhAEuFJ88lK0tLR4JI7Zs2fPA4A+N0tdYf78+VqBQODUzmT3fkdcQ0PDKG/a4A/4nTi++OKLEJPJlOjMsSKRCEdERHi8C1ZRURFjtVp9stPb1tZGeCIOgiC44OXP8aeffirQarXlzh6v0Whkv/zyi+eTPz/D78ShUqlSGhsb+470BwCJRAKZmZket6lQKHxStEahUCRlZGR4lBnCbrd7Pb/v22+/TY0dO5Z2NnS3s7MTSJJcPNjmHX53MxRFTUMIDag4iouL3RKHJ5ngAQDKysoEBEF4VKXVbreDWq32yI6LiY2NtbJYrLPO3p/dbof8/PyEQ4cOeTbG9DP8ShwYY3T06NFgZx3xVCpVpUAg6DsDQx+0tbW5tSTq6UpReXm5y6G5F2Oz2dxaTLgSCCGqqanphDOBTwA9DpBjS0tLx3rVEB/jV+IoLS2NkEql851x40AIQWdnZ/3SpUs9jlV1N6maWq32qK5GUVGR0wU6L4fdboeOjg6PrnEpFi9ejIOD+8xt0YNcLufn5OQ45+8eIPiVOF577TVOWVmZU19XCCGIj4/3yjo/xpjljkeuTqfzSBxlZWUe9xx2u93rPQcAgMlkyjMajXJnj7fZbITdbl/kdUN8iF+JIzk5ebbZbHZqWRIh5JXyaAAAN99883UsFsut98IT3yZvDau8PecAAFCpVEqxWOx0oInNZoPy8vKkgoKCUK8b4yP8Shz79++Xms1mp7ZmEUKQmJjocZsYYwIh5JMPdNWqVeMIgvBo86y/xPHoo4/CmDFjXDrHarWO+fXXX0d63Rgf4TfiwBhzEEJZzq4a0TQNlZWVfyCEPPb+83SX2l2Cg4MzuFxu35FFV6A/lnIBACZMmNBptVrznXUjAQDo6OgQWCyWxV43xkf4jThefPHFILVa7XSmBIIg6HPnzrldi6M3jY2NbovDmai5K7XraQwJRVH9MudACNkQQhXO5LFyYDQaIS8vL3Gw1A30G3EkJCRMNplMKc4eLxQKISPD8+Kmer1eRlFUlDsPKU3THs05vCGO/hpWAQDMmzfP6kw5NAd2ux2MRuPMAwcODHjO4f7Ab8Sxa9cuqVardXoTSSAQeEUcBoMhWSqVuuUXZDKZoKXFnQprXdTX13ucK6s/NgEdtLa27qdp2iVf/qampsjm5maP45b9ARYA+LzWQkhICDQ1Nc1zZVmUxWKBUqlMBIAR0HUf7kC99tprVzmTyOFSGAwGYvv27VcBgAkAXI3mo+rr60M97Tn0ej3r119/HQ4AYvDulx2dk5MT6cqwCgCgo6MDvvjii2Hg2efiFyAA8E18aG8jEAI2my2wWq1Ov5ndE0UDRVEeffWSXRcSUBTlskAIgsAAYKBp2t0nnAcAHo3PuxckDBhjr68oIIQIhJCQpmmX3huEkBlj7JtiJ14EAYB3o2UYGAYJfjPnYGDwNxhxMDBcBkYcDAyXgREHA8NlYMTBwHAZGHEwMFwGVmzsoK97yMDgFqw777xzta+NYGBgYGBgYGBgYGBgYGBgYGBgYGBgYGBgYGBgYGBgYGBgYGBgYGBgYGBgYGBgYGBgYGBgYGBgYGBgYGBgYGBgYGBgYGBgYGBgYGBgYGBgYBhk/D9ITFK6KNe82QAAAABJRU5ErkJggg==)\n"
      ]
    },
    {
      "cell_type": "markdown",
      "metadata": {
        "id": "txGeVqXNGU6l"
      },
      "source": [
        "# **Task 1 - Prection using supervised ML**\n",
        "\n",
        "\n",
        "> Predict the percentage of an student based on the no. of study hours.\n",
        "\n",
        "\n",
        "> This is a simple linear regression task as it involves just 2 variables.\n",
        "\n",
        "\n",
        "> Data can be found at http://bit.ly/w-data\n",
        "\n",
        "*Question*\n",
        "*   What will be predicted score if a student studies for 9.25 hrs/ day?\n",
        "\n",
        "\n",
        "\n",
        "\n",
        "\n",
        "\n",
        "\n",
        "\n"
      ]
    },
    {
      "cell_type": "markdown",
      "metadata": {
        "id": "rwf7l3B9G2B-"
      },
      "source": [
        "# Demonstrated and Performed BY **OMKAR TALEKAR**\n",
        "#omkartalekar3010@gmail.com\n",
        "\n",
        ">  Data Science & Business Analytics Intern - MAY 2021\n",
        "\n"
      ]
    },
    {
      "cell_type": "code",
      "metadata": {
        "id": "AnXJHZ8-HPtj"
      },
      "source": [
        "# Import all libraries\n",
        "import pandas as pd\n",
        "import numpy as np\n",
        "import matplotlib.pyplot as plt\n",
        "%matplotlib inline"
      ],
      "execution_count": 2,
      "outputs": []
    },
    {
      "cell_type": "code",
      "metadata": {
        "id": "8nGmcyd8pcLL"
      },
      "source": [
        "# Reading the data\n",
        "url='https://raw.githubusercontent.com/AdiPersonalWorks/Random/master/student_scores%20-%20student_scores.csv'"
      ],
      "execution_count": 5,
      "outputs": []
    },
    {
      "cell_type": "code",
      "metadata": {
        "colab": {
          "base_uri": "https://localhost:8080/",
          "height": 197
        },
        "id": "pw70-qDCp8DQ",
        "outputId": "c1335282-274c-4436-c5a5-e221e9acc273"
      },
      "source": [
        "df=pd.read_csv(url)\n",
        "df.head()"
      ],
      "execution_count": 6,
      "outputs": [
        {
          "output_type": "execute_result",
          "data": {
            "text/html": [
              "<div>\n",
              "<style scoped>\n",
              "    .dataframe tbody tr th:only-of-type {\n",
              "        vertical-align: middle;\n",
              "    }\n",
              "\n",
              "    .dataframe tbody tr th {\n",
              "        vertical-align: top;\n",
              "    }\n",
              "\n",
              "    .dataframe thead th {\n",
              "        text-align: right;\n",
              "    }\n",
              "</style>\n",
              "<table border=\"1\" class=\"dataframe\">\n",
              "  <thead>\n",
              "    <tr style=\"text-align: right;\">\n",
              "      <th></th>\n",
              "      <th>Hours</th>\n",
              "      <th>Scores</th>\n",
              "    </tr>\n",
              "  </thead>\n",
              "  <tbody>\n",
              "    <tr>\n",
              "      <th>0</th>\n",
              "      <td>2.5</td>\n",
              "      <td>21</td>\n",
              "    </tr>\n",
              "    <tr>\n",
              "      <th>1</th>\n",
              "      <td>5.1</td>\n",
              "      <td>47</td>\n",
              "    </tr>\n",
              "    <tr>\n",
              "      <th>2</th>\n",
              "      <td>3.2</td>\n",
              "      <td>27</td>\n",
              "    </tr>\n",
              "    <tr>\n",
              "      <th>3</th>\n",
              "      <td>8.5</td>\n",
              "      <td>75</td>\n",
              "    </tr>\n",
              "    <tr>\n",
              "      <th>4</th>\n",
              "      <td>3.5</td>\n",
              "      <td>30</td>\n",
              "    </tr>\n",
              "  </tbody>\n",
              "</table>\n",
              "</div>"
            ],
            "text/plain": [
              "   Hours  Scores\n",
              "0    2.5      21\n",
              "1    5.1      47\n",
              "2    3.2      27\n",
              "3    8.5      75\n",
              "4    3.5      30"
            ]
          },
          "metadata": {
            "tags": []
          },
          "execution_count": 6
        }
      ]
    },
    {
      "cell_type": "code",
      "metadata": {
        "colab": {
          "base_uri": "https://localhost:8080/"
        },
        "id": "pjI02algsLMS",
        "outputId": "29d8bb07-f69c-462a-a228-867b448c7fb5"
      },
      "source": [
        "df.info()"
      ],
      "execution_count": 10,
      "outputs": [
        {
          "output_type": "stream",
          "text": [
            "<class 'pandas.core.frame.DataFrame'>\n",
            "RangeIndex: 25 entries, 0 to 24\n",
            "Data columns (total 2 columns):\n",
            " #   Column  Non-Null Count  Dtype  \n",
            "---  ------  --------------  -----  \n",
            " 0   Hours   25 non-null     float64\n",
            " 1   Scores  25 non-null     int64  \n",
            "dtypes: float64(1), int64(1)\n",
            "memory usage: 528.0 bytes\n"
          ],
          "name": "stdout"
        }
      ]
    },
    {
      "cell_type": "code",
      "metadata": {
        "colab": {
          "base_uri": "https://localhost:8080/"
        },
        "id": "dvda685YsUMq",
        "outputId": "0d296e97-670f-4847-f767-730e6a2f65b1"
      },
      "source": [
        "df.shape"
      ],
      "execution_count": 11,
      "outputs": [
        {
          "output_type": "execute_result",
          "data": {
            "text/plain": [
              "(25, 2)"
            ]
          },
          "metadata": {
            "tags": []
          },
          "execution_count": 11
        }
      ]
    },
    {
      "cell_type": "code",
      "metadata": {
        "colab": {
          "base_uri": "https://localhost:8080/",
          "height": 287
        },
        "id": "seQKusPEsXFk",
        "outputId": "d95c1518-9f19-46d3-bc7b-894aa5df487d"
      },
      "source": [
        "df.describe()"
      ],
      "execution_count": 12,
      "outputs": [
        {
          "output_type": "execute_result",
          "data": {
            "text/html": [
              "<div>\n",
              "<style scoped>\n",
              "    .dataframe tbody tr th:only-of-type {\n",
              "        vertical-align: middle;\n",
              "    }\n",
              "\n",
              "    .dataframe tbody tr th {\n",
              "        vertical-align: top;\n",
              "    }\n",
              "\n",
              "    .dataframe thead th {\n",
              "        text-align: right;\n",
              "    }\n",
              "</style>\n",
              "<table border=\"1\" class=\"dataframe\">\n",
              "  <thead>\n",
              "    <tr style=\"text-align: right;\">\n",
              "      <th></th>\n",
              "      <th>Hours</th>\n",
              "      <th>Scores</th>\n",
              "    </tr>\n",
              "  </thead>\n",
              "  <tbody>\n",
              "    <tr>\n",
              "      <th>count</th>\n",
              "      <td>25.000000</td>\n",
              "      <td>25.000000</td>\n",
              "    </tr>\n",
              "    <tr>\n",
              "      <th>mean</th>\n",
              "      <td>5.012000</td>\n",
              "      <td>51.480000</td>\n",
              "    </tr>\n",
              "    <tr>\n",
              "      <th>std</th>\n",
              "      <td>2.525094</td>\n",
              "      <td>25.286887</td>\n",
              "    </tr>\n",
              "    <tr>\n",
              "      <th>min</th>\n",
              "      <td>1.100000</td>\n",
              "      <td>17.000000</td>\n",
              "    </tr>\n",
              "    <tr>\n",
              "      <th>25%</th>\n",
              "      <td>2.700000</td>\n",
              "      <td>30.000000</td>\n",
              "    </tr>\n",
              "    <tr>\n",
              "      <th>50%</th>\n",
              "      <td>4.800000</td>\n",
              "      <td>47.000000</td>\n",
              "    </tr>\n",
              "    <tr>\n",
              "      <th>75%</th>\n",
              "      <td>7.400000</td>\n",
              "      <td>75.000000</td>\n",
              "    </tr>\n",
              "    <tr>\n",
              "      <th>max</th>\n",
              "      <td>9.200000</td>\n",
              "      <td>95.000000</td>\n",
              "    </tr>\n",
              "  </tbody>\n",
              "</table>\n",
              "</div>"
            ],
            "text/plain": [
              "           Hours     Scores\n",
              "count  25.000000  25.000000\n",
              "mean    5.012000  51.480000\n",
              "std     2.525094  25.286887\n",
              "min     1.100000  17.000000\n",
              "25%     2.700000  30.000000\n",
              "50%     4.800000  47.000000\n",
              "75%     7.400000  75.000000\n",
              "max     9.200000  95.000000"
            ]
          },
          "metadata": {
            "tags": []
          },
          "execution_count": 12
        }
      ]
    },
    {
      "cell_type": "code",
      "metadata": {
        "colab": {
          "base_uri": "https://localhost:8080/",
          "height": 285
        },
        "id": "ACaZA2BDsgdR",
        "outputId": "c48ba8fa-998f-4558-be4a-21c22c83529a"
      },
      "source": [
        "# Plotting the relationship between hours and score (in bar graph)\n",
        "df.plot(kind='bar')"
      ],
      "execution_count": 13,
      "outputs": [
        {
          "output_type": "execute_result",
          "data": {
            "text/plain": [
              "<matplotlib.axes._subplots.AxesSubplot at 0x7f2867d2f490>"
            ]
          },
          "metadata": {
            "tags": []
          },
          "execution_count": 13
        },
        {
          "output_type": "display_data",
          "data": {
            "image/png": "[encoded data removed]",
            "text/plain": [
              "<Figure size 432x288 with 1 Axes>"
            ]
          },
          "metadata": {
            "tags": [],
            "needs_background": "light"
          }
        }
      ]
    },
    {
      "cell_type": "code",
      "metadata": {
        "colab": {
          "base_uri": "https://localhost:8080/",
          "height": 294
        },
        "id": "RsLsJ12iqJTV",
        "outputId": "b37ed350-7e9d-476a-f833-e9b04b83f192"
      },
      "source": [
        "# Plotting the relationship between hours and score (in points)\n",
        "df.plot(x='Hours',y='Scores',style='x')\n",
        "plt.title('hours vs percentage')\n",
        "plt.xlabel('hours')\n",
        "plt.ylabel('percentage')\n",
        "plt.show()"
      ],
      "execution_count": 7,
      "outputs": [
        {
          "output_type": "display_data",
          "data": {
            "image/png": "[encoded data removed]",
            "text/plain": [
              "<Figure size 432x288 with 1 Axes>"
            ]
          },
          "metadata": {
            "tags": [],
            "needs_background": "light"
          }
        }
      ]
    },
    {
      "cell_type": "code",
      "metadata": {
        "colab": {
          "base_uri": "https://localhost:8080/",
          "height": 282
        },
        "id": "CEuYONTout-T",
        "outputId": "3b55dbac-7cac-433f-b27b-5a3bddacf408"
      },
      "source": [
        "df.boxplot()"
      ],
      "execution_count": 14,
      "outputs": [
        {
          "output_type": "execute_result",
          "data": {
            "text/plain": [
              "<matplotlib.axes._subplots.AxesSubplot at 0x7f28582c8690>"
            ]
          },
          "metadata": {
            "tags": []
          },
          "execution_count": 14
        },
        {
          "output_type": "display_data",
          "data": {
            "image/png": "[encoded data removed]",
            "text/plain": [
              "<Figure size 432x288 with 1 Axes>"
            ]
          },
          "metadata": {
            "tags": [],
            "needs_background": "light"
          }
        }
      ]
    },
    {
      "cell_type": "markdown",
      "metadata": {
        "id": "aewBm6ivq60W"
      },
      "source": [
        "#  As we can see there is a positive relationship between Hours and Score"
      ]
    },
    {
      "cell_type": "code",
      "metadata": {
        "id": "grLk9iZ3rOQU"
      },
      "source": [
        "# Dividing the dataset into input and output\n",
        "x=df.iloc[:,0:1]\n",
        "y=df.iloc[:,1:]"
      ],
      "execution_count": 8,
      "outputs": []
    },
    {
      "cell_type": "markdown",
      "metadata": {
        "id": "j2RZs8r5rY4D"
      },
      "source": [
        "# Now We Will Train the data"
      ]
    },
    {
      "cell_type": "code",
      "metadata": {
        "id": "xgedz7ifrhFJ"
      },
      "source": [
        "from sklearn.model_selection import train_test_split"
      ],
      "execution_count": 9,
      "outputs": []
    },
    {
      "cell_type": "code",
      "metadata": {
        "id": "LGbPFB_vrl1f"
      },
      "source": [
        "x_train,x_test,y_train,y_test=train_test_split(x,y,test_size=0.25,random_state=0)"
      ],
      "execution_count": 15,
      "outputs": []
    },
    {
      "cell_type": "code",
      "metadata": {
        "id": "oxvZ0Zl3u8-s"
      },
      "source": [
        "from sklearn.linear_model import LinearRegression"
      ],
      "execution_count": 16,
      "outputs": []
    },
    {
      "cell_type": "code",
      "metadata": {
        "id": "s4PbzbcAu_JJ"
      },
      "source": [
        "lr=LinearRegression()"
      ],
      "execution_count": 17,
      "outputs": []
    },
    {
      "cell_type": "code",
      "metadata": {
        "colab": {
          "base_uri": "https://localhost:8080/"
        },
        "id": "sVVL1Wg_vDIj",
        "outputId": "5a00d98c-72ec-4881-9b08-b63b8149303e"
      },
      "source": [
        "lr.fit(x_train,y_train)"
      ],
      "execution_count": 18,
      "outputs": [
        {
          "output_type": "execute_result",
          "data": {
            "text/plain": [
              "LinearRegression(copy_X=True, fit_intercept=True, n_jobs=None, normalize=False)"
            ]
          },
          "metadata": {
            "tags": []
          },
          "execution_count": 18
        }
      ]
    },
    {
      "cell_type": "code",
      "metadata": {
        "colab": {
          "base_uri": "https://localhost:8080/"
        },
        "id": "9ZewEh-NvFmZ",
        "outputId": "1e6c6b2e-599d-4728-de8a-4099672e2ef4"
      },
      "source": [
        "lr.score(x_train,y_train)"
      ],
      "execution_count": 19,
      "outputs": [
        {
          "output_type": "execute_result",
          "data": {
            "text/plain": [
              "0.9484509249326872"
            ]
          },
          "metadata": {
            "tags": []
          },
          "execution_count": 19
        }
      ]
    },
    {
      "cell_type": "code",
      "metadata": {
        "colab": {
          "base_uri": "https://localhost:8080/"
        },
        "id": "cycJsaZnvIKw",
        "outputId": "33c7f73d-d2c6-48ce-d070-ca103c7a1f10"
      },
      "source": [
        "lr.score(x_test,y_test)"
      ],
      "execution_count": 20,
      "outputs": [
        {
          "output_type": "execute_result",
          "data": {
            "text/plain": [
              "0.9367661043365056"
            ]
          },
          "metadata": {
            "tags": []
          },
          "execution_count": 20
        }
      ]
    },
    {
      "cell_type": "code",
      "metadata": {
        "id": "Szn_7XmFvRbY"
      },
      "source": [
        "pred=lr.predict(x_test)"
      ],
      "execution_count": 21,
      "outputs": []
    },
    {
      "cell_type": "code",
      "metadata": {
        "id": "-v33K2-_vTsK"
      },
      "source": [
        "from sklearn.metrics import mean_squared_error,mean_absolute_error"
      ],
      "execution_count": 22,
      "outputs": []
    },
    {
      "cell_type": "code",
      "metadata": {
        "colab": {
          "base_uri": "https://localhost:8080/"
        },
        "id": "EEM1ztKFvWKq",
        "outputId": "8271d3b5-0cd4-4d18-cee6-6de431d9b644"
      },
      "source": [
        "print(mean_squared_error(pred,y_test))"
      ],
      "execution_count": 23,
      "outputs": [
        {
          "output_type": "stream",
          "text": [
            "20.33292367497996\n"
          ],
          "name": "stdout"
        }
      ]
    },
    {
      "cell_type": "code",
      "metadata": {
        "colab": {
          "base_uri": "https://localhost:8080/"
        },
        "id": "6e93PQ7avYY8",
        "outputId": "0d9dd954-e48b-4ad3-93df-0019cb5e9288"
      },
      "source": [
        "print(np.sqrt(mean_squared_error(pred,y_test)))"
      ],
      "execution_count": 24,
      "outputs": [
        {
          "output_type": "stream",
          "text": [
            "4.509204328368805\n"
          ],
          "name": "stdout"
        }
      ]
    },
    {
      "cell_type": "code",
      "metadata": {
        "colab": {
          "base_uri": "https://localhost:8080/",
          "height": 264
        },
        "id": "9QTUtnuVvbJk",
        "outputId": "9b09e679-3d91-4124-d400-4ca6b7e89c21"
      },
      "source": [
        "#plotting the best fit line\n",
        "line = lr.coef_*x+lr.intercept_\n",
        "\n",
        "plt.scatter(x,y)\n",
        "plt.plot(x,line)\n",
        "plt.show()"
      ],
      "execution_count": 26,
      "outputs": [
        {
          "output_type": "display_data",
          "data": {
            "image/png": "[encoded data removed]",
            "text/plain": [
              "<Figure size 432x288 with 1 Axes>"
            ]
          },
          "metadata": {
            "tags": [],
            "needs_background": "light"
          }
        }
      ]
    },
    {
      "cell_type": "code",
      "metadata": {
        "colab": {
          "base_uri": "https://localhost:8080/",
          "height": 257
        },
        "id": "IK5LiLgQvtzM",
        "outputId": "b86a7737-cce2-4101-d535-654a922f3ddf"
      },
      "source": [
        "#Showing Scores\n",
        "df2=pd.DataFrame(y_test)\n",
        "df2"
      ],
      "execution_count": 27,
      "outputs": [
        {
          "output_type": "execute_result",
          "data": {
            "text/html": [
              "<div>\n",
              "<style scoped>\n",
              "    .dataframe tbody tr th:only-of-type {\n",
              "        vertical-align: middle;\n",
              "    }\n",
              "\n",
              "    .dataframe tbody tr th {\n",
              "        vertical-align: top;\n",
              "    }\n",
              "\n",
              "    .dataframe thead th {\n",
              "        text-align: right;\n",
              "    }\n",
              "</style>\n",
              "<table border=\"1\" class=\"dataframe\">\n",
              "  <thead>\n",
              "    <tr style=\"text-align: right;\">\n",
              "      <th></th>\n",
              "      <th>Scores</th>\n",
              "    </tr>\n",
              "  </thead>\n",
              "  <tbody>\n",
              "    <tr>\n",
              "      <th>5</th>\n",
              "      <td>20</td>\n",
              "    </tr>\n",
              "    <tr>\n",
              "      <th>2</th>\n",
              "      <td>27</td>\n",
              "    </tr>\n",
              "    <tr>\n",
              "      <th>19</th>\n",
              "      <td>69</td>\n",
              "    </tr>\n",
              "    <tr>\n",
              "      <th>16</th>\n",
              "      <td>30</td>\n",
              "    </tr>\n",
              "    <tr>\n",
              "      <th>11</th>\n",
              "      <td>62</td>\n",
              "    </tr>\n",
              "    <tr>\n",
              "      <th>22</th>\n",
              "      <td>35</td>\n",
              "    </tr>\n",
              "    <tr>\n",
              "      <th>17</th>\n",
              "      <td>24</td>\n",
              "    </tr>\n",
              "  </tbody>\n",
              "</table>\n",
              "</div>"
            ],
            "text/plain": [
              "    Scores\n",
              "5       20\n",
              "2       27\n",
              "19      69\n",
              "16      30\n",
              "11      62\n",
              "22      35\n",
              "17      24"
            ]
          },
          "metadata": {
            "tags": []
          },
          "execution_count": 27
        }
      ]
    },
    {
      "cell_type": "code",
      "metadata": {
        "id": "8ZybDtUhvx3x"
      },
      "source": [
        "df2['prediction']=pred"
      ],
      "execution_count": 28,
      "outputs": []
    },
    {
      "cell_type": "code",
      "metadata": {
        "colab": {
          "base_uri": "https://localhost:8080/",
          "height": 257
        },
        "id": "WUkmTafHv5_j",
        "outputId": "6481fa47-e0d4-42f2-c1f6-9700d47d1ab8"
      },
      "source": [
        "# Comparison between actual output and predicted output\n",
        "df2"
      ],
      "execution_count": 29,
      "outputs": [
        {
          "output_type": "execute_result",
          "data": {
            "text/html": [
              "<div>\n",
              "<style scoped>\n",
              "    .dataframe tbody tr th:only-of-type {\n",
              "        vertical-align: middle;\n",
              "    }\n",
              "\n",
              "    .dataframe tbody tr th {\n",
              "        vertical-align: top;\n",
              "    }\n",
              "\n",
              "    .dataframe thead th {\n",
              "        text-align: right;\n",
              "    }\n",
              "</style>\n",
              "<table border=\"1\" class=\"dataframe\">\n",
              "  <thead>\n",
              "    <tr style=\"text-align: right;\">\n",
              "      <th></th>\n",
              "      <th>Scores</th>\n",
              "      <th>prediction</th>\n",
              "    </tr>\n",
              "  </thead>\n",
              "  <tbody>\n",
              "    <tr>\n",
              "      <th>5</th>\n",
              "      <td>20</td>\n",
              "      <td>16.844722</td>\n",
              "    </tr>\n",
              "    <tr>\n",
              "      <th>2</th>\n",
              "      <td>27</td>\n",
              "      <td>33.745575</td>\n",
              "    </tr>\n",
              "    <tr>\n",
              "      <th>19</th>\n",
              "      <td>69</td>\n",
              "      <td>75.500624</td>\n",
              "    </tr>\n",
              "    <tr>\n",
              "      <th>16</th>\n",
              "      <td>30</td>\n",
              "      <td>26.786400</td>\n",
              "    </tr>\n",
              "    <tr>\n",
              "      <th>11</th>\n",
              "      <td>62</td>\n",
              "      <td>60.588106</td>\n",
              "    </tr>\n",
              "    <tr>\n",
              "      <th>22</th>\n",
              "      <td>35</td>\n",
              "      <td>39.710582</td>\n",
              "    </tr>\n",
              "    <tr>\n",
              "      <th>17</th>\n",
              "      <td>24</td>\n",
              "      <td>20.821393</td>\n",
              "    </tr>\n",
              "  </tbody>\n",
              "</table>\n",
              "</div>"
            ],
            "text/plain": [
              "    Scores  prediction\n",
              "5       20   16.844722\n",
              "2       27   33.745575\n",
              "19      69   75.500624\n",
              "16      30   26.786400\n",
              "11      62   60.588106\n",
              "22      35   39.710582\n",
              "17      24   20.821393"
            ]
          },
          "metadata": {
            "tags": []
          },
          "execution_count": 29
        }
      ]
    },
    {
      "cell_type": "code",
      "metadata": {
        "id": "pNQeeyBxv6tP"
      },
      "source": [
        "#Testing with your own data\n",
        "hours= [[9.25]]"
      ],
      "execution_count": 31,
      "outputs": []
    },
    {
      "cell_type": "code",
      "metadata": {
        "id": "OxSpwtkYwF3M"
      },
      "source": [
        "pred2=lr.predict(hours)"
      ],
      "execution_count": 32,
      "outputs": []
    },
    {
      "cell_type": "code",
      "metadata": {
        "colab": {
          "base_uri": "https://localhost:8080/"
        },
        "id": "J47qSjpDwKEg",
        "outputId": "85f4c27a-c45c-47de-836b-10be66ec5696"
      },
      "source": [
        "#Our Score\n",
        "pred2"
      ],
      "execution_count": 33,
      "outputs": [
        {
          "output_type": "execute_result",
          "data": {
            "text/plain": [
              "array([[93.89272889]])"
            ]
          },
          "metadata": {
            "tags": []
          },
          "execution_count": 33
        }
      ]
    },
    {
      "cell_type": "markdown",
      "metadata": {
        "id": "_7kY8ytmwYlk"
      },
      "source": [
        "# The Number of hours is 9.25 and predicted score is 93.89 for Our Model."
      ]
    }
  ]
}